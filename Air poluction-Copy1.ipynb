{
 "cells": [
  {
   "cell_type": "code",
   "execution_count": 27,
   "id": "4417d0d7-4d11-4cee-ab12-d7b3ea75c0a5",
   "metadata": {},
   "outputs": [
    {
     "data": {
      "text/html": [
       "<div>\n",
       "<style scoped>\n",
       "    .dataframe tbody tr th:only-of-type {\n",
       "        vertical-align: middle;\n",
       "    }\n",
       "\n",
       "    .dataframe tbody tr th {\n",
       "        vertical-align: top;\n",
       "    }\n",
       "\n",
       "    .dataframe thead th {\n",
       "        text-align: right;\n",
       "    }\n",
       "</style>\n",
       "<table border=\"1\" class=\"dataframe\">\n",
       "  <thead>\n",
       "    <tr style=\"text-align: right;\">\n",
       "      <th></th>\n",
       "      <th>City</th>\n",
       "      <th>Date</th>\n",
       "      <th>PM2.5(µg/m³)</th>\n",
       "      <th>PM10(µg/m³)</th>\n",
       "      <th>NO? (µg/m³)</th>\n",
       "      <th>SO2(µg/m³)</th>\n",
       "      <th>CO (mg/m³)</th>\n",
       "      <th>O3 (mg/m³)</th>\n",
       "      <th>AQI Level</th>\n",
       "      <th>Category</th>\n",
       "    </tr>\n",
       "  </thead>\n",
       "  <tbody>\n",
       "    <tr>\n",
       "      <th>0</th>\n",
       "      <td>Patna</td>\n",
       "      <td>02-07-2025</td>\n",
       "      <td>163</td>\n",
       "      <td>86</td>\n",
       "      <td>70</td>\n",
       "      <td>19</td>\n",
       "      <td>0.57</td>\n",
       "      <td>45</td>\n",
       "      <td>76</td>\n",
       "      <td>Moderate</td>\n",
       "    </tr>\n",
       "    <tr>\n",
       "      <th>1</th>\n",
       "      <td>Gaya</td>\n",
       "      <td>03-07-2025</td>\n",
       "      <td>150</td>\n",
       "      <td>155</td>\n",
       "      <td>43</td>\n",
       "      <td>6</td>\n",
       "      <td>1.67</td>\n",
       "      <td>56</td>\n",
       "      <td>82</td>\n",
       "      <td>Moderate</td>\n",
       "    </tr>\n",
       "    <tr>\n",
       "      <th>2</th>\n",
       "      <td>Bhagalpur</td>\n",
       "      <td>04-07-2025</td>\n",
       "      <td>55</td>\n",
       "      <td>216</td>\n",
       "      <td>49</td>\n",
       "      <td>18</td>\n",
       "      <td>1.35</td>\n",
       "      <td>65</td>\n",
       "      <td>75</td>\n",
       "      <td>Poor</td>\n",
       "    </tr>\n",
       "    <tr>\n",
       "      <th>3</th>\n",
       "      <td>Muzaffarpur</td>\n",
       "      <td>05-07-2025</td>\n",
       "      <td>51</td>\n",
       "      <td>112</td>\n",
       "      <td>52</td>\n",
       "      <td>18</td>\n",
       "      <td>1.91</td>\n",
       "      <td>66</td>\n",
       "      <td>59</td>\n",
       "      <td>Poor</td>\n",
       "    </tr>\n",
       "    <tr>\n",
       "      <th>4</th>\n",
       "      <td>Purniya</td>\n",
       "      <td>06-07-2025</td>\n",
       "      <td>74</td>\n",
       "      <td>96</td>\n",
       "      <td>20</td>\n",
       "      <td>11</td>\n",
       "      <td>1.47</td>\n",
       "      <td>23</td>\n",
       "      <td>53</td>\n",
       "      <td>Moderate</td>\n",
       "    </tr>\n",
       "    <tr>\n",
       "      <th>...</th>\n",
       "      <td>...</td>\n",
       "      <td>...</td>\n",
       "      <td>...</td>\n",
       "      <td>...</td>\n",
       "      <td>...</td>\n",
       "      <td>...</td>\n",
       "      <td>...</td>\n",
       "      <td>...</td>\n",
       "      <td>...</td>\n",
       "      <td>...</td>\n",
       "    </tr>\n",
       "    <tr>\n",
       "      <th>199</th>\n",
       "      <td>Thanjavur</td>\n",
       "      <td>17-01-2025</td>\n",
       "      <td>43</td>\n",
       "      <td>72</td>\n",
       "      <td>25</td>\n",
       "      <td>9</td>\n",
       "      <td>0.40</td>\n",
       "      <td>45</td>\n",
       "      <td>79</td>\n",
       "      <td>Moderate</td>\n",
       "    </tr>\n",
       "    <tr>\n",
       "      <th>200</th>\n",
       "      <td>Vellore</td>\n",
       "      <td>18-01-2025</td>\n",
       "      <td>51</td>\n",
       "      <td>86</td>\n",
       "      <td>33</td>\n",
       "      <td>10</td>\n",
       "      <td>0.60</td>\n",
       "      <td>50</td>\n",
       "      <td>4</td>\n",
       "      <td>Moderate</td>\n",
       "    </tr>\n",
       "    <tr>\n",
       "      <th>201</th>\n",
       "      <td>Thoothukudi</td>\n",
       "      <td>19-01-2025</td>\n",
       "      <td>60</td>\n",
       "      <td>95</td>\n",
       "      <td>34</td>\n",
       "      <td>12</td>\n",
       "      <td>0.70</td>\n",
       "      <td>59</td>\n",
       "      <td>89</td>\n",
       "      <td>Moderate</td>\n",
       "    </tr>\n",
       "    <tr>\n",
       "      <th>202</th>\n",
       "      <td>Tirunelveli</td>\n",
       "      <td>20-01-2025</td>\n",
       "      <td>38</td>\n",
       "      <td>64</td>\n",
       "      <td>22</td>\n",
       "      <td>7</td>\n",
       "      <td>0.30</td>\n",
       "      <td>68</td>\n",
       "      <td>68</td>\n",
       "      <td>Poor</td>\n",
       "    </tr>\n",
       "    <tr>\n",
       "      <th>203</th>\n",
       "      <td>Dindigul</td>\n",
       "      <td>21-01-2025</td>\n",
       "      <td>41</td>\n",
       "      <td>66</td>\n",
       "      <td>24</td>\n",
       "      <td>8</td>\n",
       "      <td>0.30</td>\n",
       "      <td>61</td>\n",
       "      <td>49</td>\n",
       "      <td>Moderate</td>\n",
       "    </tr>\n",
       "  </tbody>\n",
       "</table>\n",
       "<p>204 rows × 10 columns</p>\n",
       "</div>"
      ],
      "text/plain": [
       "            City        Date  PM2.5(µg/m³)  PM10(µg/m³)  NO? (µg/m³)  \\\n",
       "0          Patna  02-07-2025           163           86           70   \n",
       "1          Gaya   03-07-2025           150          155           43   \n",
       "2      Bhagalpur  04-07-2025            55          216           49   \n",
       "3    Muzaffarpur  05-07-2025            51          112           52   \n",
       "4       Purniya   06-07-2025            74           96           20   \n",
       "..           ...         ...           ...          ...          ...   \n",
       "199    Thanjavur  17-01-2025            43           72           25   \n",
       "200      Vellore  18-01-2025            51           86           33   \n",
       "201  Thoothukudi  19-01-2025            60           95           34   \n",
       "202  Tirunelveli  20-01-2025            38           64           22   \n",
       "203     Dindigul  21-01-2025            41           66           24   \n",
       "\n",
       "     SO2(µg/m³)  CO (mg/m³)  O3 (mg/m³)  AQI Level  Category  \n",
       "0            19        0.57          45         76  Moderate  \n",
       "1             6        1.67          56         82  Moderate  \n",
       "2            18        1.35          65         75      Poor  \n",
       "3            18        1.91          66         59      Poor  \n",
       "4            11        1.47          23         53  Moderate  \n",
       "..          ...         ...         ...        ...       ...  \n",
       "199           9        0.40          45         79  Moderate  \n",
       "200          10        0.60          50          4  Moderate  \n",
       "201          12        0.70          59         89  Moderate  \n",
       "202           7        0.30          68         68      Poor  \n",
       "203           8        0.30          61         49  Moderate  \n",
       "\n",
       "[204 rows x 10 columns]"
      ]
     },
     "execution_count": 27,
     "metadata": {},
     "output_type": "execute_result"
    }
   ],
   "source": [
    "import pandas as pd\n",
    "import matplotlib.pyplot as plt\n",
    "import folium\n",
    "from sklearn.model_selection import train_test_split\n",
    "from sklearn.ensemble import RandomForestRegressor\n",
    "from sklearn.metrics import mean_absolute_error, r2_score\n",
    "\n",
    "\n",
    "var = pd.read_csv(\"C:\\\\Users\\\\sahub\\\\OneDrive\\\\Desktop\\\\PandasPro\\\\air Pollucatests.csv\",encoding='windows-1252')\n",
    "var\n"
   ]
  },
  {
   "cell_type": "code",
   "execution_count": 27,
   "id": "b4d8dd6b-feca-4abc-ade6-f382946f453f",
   "metadata": {},
   "outputs": [
    {
     "data": {
      "text/html": [
       "<div>\n",
       "<style scoped>\n",
       "    .dataframe tbody tr th:only-of-type {\n",
       "        vertical-align: middle;\n",
       "    }\n",
       "\n",
       "    .dataframe tbody tr th {\n",
       "        vertical-align: top;\n",
       "    }\n",
       "\n",
       "    .dataframe thead th {\n",
       "        text-align: right;\n",
       "    }\n",
       "</style>\n",
       "<table border=\"1\" class=\"dataframe\">\n",
       "  <thead>\n",
       "    <tr style=\"text-align: right;\">\n",
       "      <th></th>\n",
       "      <th>City</th>\n",
       "      <th>Date</th>\n",
       "      <th>PM2.5(µg/m³)</th>\n",
       "      <th>PM10(µg/m³)</th>\n",
       "      <th>NO? (µg/m³)</th>\n",
       "      <th>SO2(µg/m³)</th>\n",
       "      <th>CO (mg/m³)</th>\n",
       "      <th>O3 (mg/m³)</th>\n",
       "      <th>AQI Level</th>\n",
       "      <th>Category</th>\n",
       "    </tr>\n",
       "  </thead>\n",
       "  <tbody>\n",
       "    <tr>\n",
       "      <th>0</th>\n",
       "      <td>Patna</td>\n",
       "      <td>02-07-2025</td>\n",
       "      <td>163</td>\n",
       "      <td>86</td>\n",
       "      <td>70</td>\n",
       "      <td>19</td>\n",
       "      <td>0.57</td>\n",
       "      <td>45</td>\n",
       "      <td>76</td>\n",
       "      <td>Moderate</td>\n",
       "    </tr>\n",
       "    <tr>\n",
       "      <th>1</th>\n",
       "      <td>Gaya</td>\n",
       "      <td>03-07-2025</td>\n",
       "      <td>150</td>\n",
       "      <td>155</td>\n",
       "      <td>43</td>\n",
       "      <td>6</td>\n",
       "      <td>1.67</td>\n",
       "      <td>56</td>\n",
       "      <td>82</td>\n",
       "      <td>Moderate</td>\n",
       "    </tr>\n",
       "    <tr>\n",
       "      <th>2</th>\n",
       "      <td>Bhagalpur</td>\n",
       "      <td>04-07-2025</td>\n",
       "      <td>55</td>\n",
       "      <td>216</td>\n",
       "      <td>49</td>\n",
       "      <td>18</td>\n",
       "      <td>1.35</td>\n",
       "      <td>65</td>\n",
       "      <td>75</td>\n",
       "      <td>Poor</td>\n",
       "    </tr>\n",
       "    <tr>\n",
       "      <th>3</th>\n",
       "      <td>Muzaffarpur</td>\n",
       "      <td>05-07-2025</td>\n",
       "      <td>51</td>\n",
       "      <td>112</td>\n",
       "      <td>52</td>\n",
       "      <td>18</td>\n",
       "      <td>1.91</td>\n",
       "      <td>66</td>\n",
       "      <td>59</td>\n",
       "      <td>Poor</td>\n",
       "    </tr>\n",
       "    <tr>\n",
       "      <th>4</th>\n",
       "      <td>Purniya</td>\n",
       "      <td>06-07-2025</td>\n",
       "      <td>74</td>\n",
       "      <td>96</td>\n",
       "      <td>20</td>\n",
       "      <td>11</td>\n",
       "      <td>1.47</td>\n",
       "      <td>23</td>\n",
       "      <td>53</td>\n",
       "      <td>Moderate</td>\n",
       "    </tr>\n",
       "    <tr>\n",
       "      <th>...</th>\n",
       "      <td>...</td>\n",
       "      <td>...</td>\n",
       "      <td>...</td>\n",
       "      <td>...</td>\n",
       "      <td>...</td>\n",
       "      <td>...</td>\n",
       "      <td>...</td>\n",
       "      <td>...</td>\n",
       "      <td>...</td>\n",
       "      <td>...</td>\n",
       "    </tr>\n",
       "    <tr>\n",
       "      <th>199</th>\n",
       "      <td>Thanjavur</td>\n",
       "      <td>17-01-2025</td>\n",
       "      <td>43</td>\n",
       "      <td>72</td>\n",
       "      <td>25</td>\n",
       "      <td>9</td>\n",
       "      <td>0.40</td>\n",
       "      <td>45</td>\n",
       "      <td>79</td>\n",
       "      <td>Moderate</td>\n",
       "    </tr>\n",
       "    <tr>\n",
       "      <th>200</th>\n",
       "      <td>Vellore</td>\n",
       "      <td>18-01-2025</td>\n",
       "      <td>51</td>\n",
       "      <td>86</td>\n",
       "      <td>33</td>\n",
       "      <td>10</td>\n",
       "      <td>0.60</td>\n",
       "      <td>50</td>\n",
       "      <td>4</td>\n",
       "      <td>Moderate</td>\n",
       "    </tr>\n",
       "    <tr>\n",
       "      <th>201</th>\n",
       "      <td>Thoothukudi</td>\n",
       "      <td>19-01-2025</td>\n",
       "      <td>60</td>\n",
       "      <td>95</td>\n",
       "      <td>34</td>\n",
       "      <td>12</td>\n",
       "      <td>0.70</td>\n",
       "      <td>59</td>\n",
       "      <td>89</td>\n",
       "      <td>Moderate</td>\n",
       "    </tr>\n",
       "    <tr>\n",
       "      <th>202</th>\n",
       "      <td>Tirunelveli</td>\n",
       "      <td>20-01-2025</td>\n",
       "      <td>38</td>\n",
       "      <td>64</td>\n",
       "      <td>22</td>\n",
       "      <td>7</td>\n",
       "      <td>0.30</td>\n",
       "      <td>68</td>\n",
       "      <td>68</td>\n",
       "      <td>Poor</td>\n",
       "    </tr>\n",
       "    <tr>\n",
       "      <th>203</th>\n",
       "      <td>Dindigul</td>\n",
       "      <td>21-01-2025</td>\n",
       "      <td>41</td>\n",
       "      <td>66</td>\n",
       "      <td>24</td>\n",
       "      <td>8</td>\n",
       "      <td>0.30</td>\n",
       "      <td>61</td>\n",
       "      <td>49</td>\n",
       "      <td>Moderate</td>\n",
       "    </tr>\n",
       "  </tbody>\n",
       "</table>\n",
       "<p>204 rows × 10 columns</p>\n",
       "</div>"
      ],
      "text/plain": [
       "            City        Date  PM2.5(µg/m³)  PM10(µg/m³)  NO? (µg/m³)  \\\n",
       "0          Patna  02-07-2025           163           86           70   \n",
       "1          Gaya   03-07-2025           150          155           43   \n",
       "2      Bhagalpur  04-07-2025            55          216           49   \n",
       "3    Muzaffarpur  05-07-2025            51          112           52   \n",
       "4       Purniya   06-07-2025            74           96           20   \n",
       "..           ...         ...           ...          ...          ...   \n",
       "199    Thanjavur  17-01-2025            43           72           25   \n",
       "200      Vellore  18-01-2025            51           86           33   \n",
       "201  Thoothukudi  19-01-2025            60           95           34   \n",
       "202  Tirunelveli  20-01-2025            38           64           22   \n",
       "203     Dindigul  21-01-2025            41           66           24   \n",
       "\n",
       "     SO2(µg/m³)  CO (mg/m³)  O3 (mg/m³)  AQI Level  Category  \n",
       "0            19        0.57          45         76  Moderate  \n",
       "1             6        1.67          56         82  Moderate  \n",
       "2            18        1.35          65         75      Poor  \n",
       "3            18        1.91          66         59      Poor  \n",
       "4            11        1.47          23         53  Moderate  \n",
       "..          ...         ...         ...        ...       ...  \n",
       "199           9        0.40          45         79  Moderate  \n",
       "200          10        0.60          50          4  Moderate  \n",
       "201          12        0.70          59         89  Moderate  \n",
       "202           7        0.30          68         68      Poor  \n",
       "203           8        0.30          61         49  Moderate  \n",
       "\n",
       "[204 rows x 10 columns]"
      ]
     },
     "execution_count": 27,
     "metadata": {},
     "output_type": "execute_result"
    }
   ],
   "source": [
    "import pandas as pd\n",
    "import matplotlib.pyplot as plt\n",
    "import folium\n",
    "from sklearn.model_selection import train_test_split\n",
    "from sklearn.ensemble import RandomForestRegressor\n",
    "from sklearn.metrics import mean_absolute_error, r2_score\n",
    "\n",
    "\n",
    "var = pd.read_csv(\"C:\\\\Users\\\\sahub\\\\OneDrive\\\\Desktop\\\\PandasPro\\\\air Pollucatests.csv\",encoding='windows-1252')\n",
    "var\n"
   ]
  },
  {
   "cell_type": "code",
   "execution_count": 8,
   "id": "8b2e3e5b-1b91-4e6a-9ccd-7a75caa975f8",
   "metadata": {},
   "outputs": [
    {
     "name": "stdout",
     "output_type": "stream",
     "text": [
      "          City        Date  PM2.5(µg/m³)  PM10(µg/m³)  NO? (µg/m³)  \\\n",
      "0        Patna  02-07-2025           163           86           70   \n",
      "1        Gaya   03-07-2025           150          155           43   \n",
      "2    Bhagalpur  04-07-2025            55          216           49   \n",
      "3  Muzaffarpur  05-07-2025            51          112           52   \n",
      "4     Purniya   06-07-2025            74           96           20   \n",
      "\n",
      "   SO2(µg/m³)  CO (mg/m³)  O3 (mg/m³)  AQI Level  Category  \n",
      "0          19        0.57          45         76  Moderate  \n",
      "1           6        1.67          56         82  Moderate  \n",
      "2          18        1.35          65         75      Poor  \n",
      "3          18        1.91          66         59      Poor  \n",
      "4          11        1.47          23         53  Moderate  \n"
     ]
    }
   ],
   "source": [
    "print(var.head())"
   ]
  },
  {
   "cell_type": "code",
   "execution_count": 12,
   "id": "34bcd945-d067-4096-8ed7-c0f8df3e6096",
   "metadata": {},
   "outputs": [
    {
     "name": "stdout",
     "output_type": "stream",
     "text": [
      "City            0\n",
      "Date            0\n",
      "PM2.5(µg/m³)    0\n",
      "PM10(µg/m³)     0\n",
      "NO? (µg/m³)     0\n",
      "SO2(µg/m³)      0\n",
      "CO (mg/m³)      0\n",
      "O3 (mg/m³)      0\n",
      "AQI Level       0\n",
      " Category       0\n",
      "dtype: int64\n"
     ]
    }
   ],
   "source": [
    "print(var.isnull().sum())\n",
    "var = var.dropna()"
   ]
  },
  {
   "cell_type": "code",
   "execution_count": 18,
   "id": "f69de115-6907-4bf0-b7ff-9cd960f04229",
   "metadata": {},
   "outputs": [
    {
     "name": "stdout",
     "output_type": "stream",
     "text": [
      "City\n",
      "NorthDelhi    234.0\n",
      "North East    221.0\n",
      "WestDelhi     206.0\n",
      "Azamgarh      200.0\n",
      "Mainpuri      198.0\n",
      "Name: PM2.5(µg/m³), dtype: float64\n"
     ]
    }
   ],
   "source": [
    "top_districts = var.groupby('City')['PM2.5(µg/m³)'].mean().sort_values(ascending=False)\n",
    "print(top_districts.head())"
   ]
  },
  {
   "cell_type": "code",
   "execution_count": 5,
   "id": "6f831be2-e521-4faa-8c4b-dd072cdcec4d",
   "metadata": {},
   "outputs": [
    {
     "name": "stdout",
     "output_type": "stream",
     "text": [
      "Month\n",
      "1      79.714286\n",
      "7     124.000000\n",
      "8     128.161290\n",
      "9     128.433333\n",
      "10    130.870968\n",
      "11     90.300000\n",
      "12    107.483871\n",
      "Name: PM2.5(µg/m³), dtype: float64\n"
     ]
    }
   ],
   "source": [
    "var[\"Date\"] = pd.to_datetime(var ['Date'],dayfirst=True)\n",
    "var[\"Month\"] = var ['Date'].dt.month\n",
    "\n",
    "monthly_avg = var.groupby('Month')['PM2.5(µg/m³)'].mean()\n",
    "print(monthly_avg)\n"
   ]
  },
  {
   "cell_type": "code",
   "execution_count": 6,
   "id": "9ec2aa66-77f7-4677-a1a2-a0aac6686db6",
   "metadata": {},
   "outputs": [
    {
     "name": "stdout",
     "output_type": "stream",
     "text": [
      "Month\n",
      "1     119.761905\n",
      "7     163.266667\n",
      "8     176.935484\n",
      "9     173.233333\n",
      "10    174.258065\n",
      "11    137.366667\n",
      "12    161.935484\n",
      "Name: PM10(µg/m³), dtype: float64\n"
     ]
    }
   ],
   "source": [
    "var[\"Date\"] = pd.to_datetime(var ['Date'],dayfirst=True)\n",
    "var[\"Month\"] = var ['Date'].dt.month\n",
    "\n",
    "monthly_avg = var.groupby('Month')['PM10(µg/m³)'].mean()\n",
    "print(monthly_avg)"
   ]
  },
  {
   "cell_type": "code",
   "execution_count": 7,
   "id": "9ac614fc-135f-4511-92dd-e9984645b87a",
   "metadata": {},
   "outputs": [
    {
     "name": "stdout",
     "output_type": "stream",
     "text": [
      "Month\n",
      "1     39.952381\n",
      "7     49.600000\n",
      "8     60.258065\n",
      "9     52.833333\n",
      "10    57.129032\n",
      "11    35.066667\n",
      "12    43.612903\n",
      "Name: NO? (µg/m³), dtype: float64\n"
     ]
    }
   ],
   "source": [
    "\n",
    "var[\"Date\"] = pd.to_datetime(var ['Date'],dayfirst=True)\n",
    "var[\"Month\"] = var ['Date'].dt.month\n",
    "\n",
    "monthly_avg = var.groupby('Month')['NO? (µg/m³)'].mean()\n",
    "print(monthly_avg)"
   ]
  },
  {
   "cell_type": "code",
   "execution_count": 34,
   "id": "fba3bf9f-c3de-4f2b-8494-dd0d72b24205",
   "metadata": {},
   "outputs": [
    {
     "name": "stdout",
     "output_type": "stream",
     "text": [
      "Month\n",
      "1     11.571429\n",
      "7     15.833333\n",
      "8     23.838710\n",
      "9     18.866667\n",
      "10    19.580645\n",
      "11    18.333333\n",
      "12    19.645161\n",
      "Name: SO2(µg/m³), dtype: float64\n"
     ]
    }
   ],
   "source": [
    "var[\"Date\"] = pd.to_datetime(var ['Date'],dayfirst=True)\n",
    "var[\"Month\"] = var ['Date'].dt.month\n",
    "\n",
    "monthly_avg = var.groupby('Month')['SO2(µg/m³)'].mean()\n",
    "print(monthly_avg)"
   ]
  },
  {
   "cell_type": "code",
   "execution_count": 35,
   "id": "a04d2cea-d13b-4517-a620-717ea40271d9",
   "metadata": {},
   "outputs": [
    {
     "name": "stdout",
     "output_type": "stream",
     "text": [
      "Month\n",
      "1     0.945714\n",
      "7     1.072333\n",
      "8     1.467419\n",
      "9     7.024000\n",
      "10    1.590645\n",
      "11    1.371333\n",
      "12    1.361613\n",
      "Name: CO (mg/m³), dtype: float64\n"
     ]
    }
   ],
   "source": [
    "var[\"Date\"] = pd.to_datetime(var ['Date'],dayfirst=True)\n",
    "var[\"Month\"] = var ['Date'].dt.month\n",
    "\n",
    "monthly_avg = var.groupby('Month')['CO (mg/m³)'].mean()\n",
    "print(monthly_avg)"
   ]
  },
  {
   "cell_type": "code",
   "execution_count": 36,
   "id": "1d9363ef-a183-4229-be6f-bdc2a47b94c0",
   "metadata": {},
   "outputs": [
    {
     "name": "stdout",
     "output_type": "stream",
     "text": [
      "Month\n",
      "1     277.666667\n",
      "7      46.733333\n",
      "8      55.483871\n",
      "9      63.966667\n",
      "10     49.258065\n",
      "11     52.766667\n",
      "12     49.354839\n",
      "Name: O3 (mg/m³), dtype: float64\n"
     ]
    }
   ],
   "source": [
    "var[\"Date\"] = pd.to_datetime(var ['Date'],dayfirst=True)\n",
    "var[\"Month\"] = var ['Date'].dt.month\n",
    "\n",
    "monthly_avg = var.groupby('Month')['O3 (mg/m³)'].mean()\n",
    "print(monthly_avg)"
   ]
  },
  {
   "cell_type": "code",
   "execution_count": 37,
   "id": "28933bc7-b202-4965-ba77-e17db883c568",
   "metadata": {},
   "outputs": [
    {
     "name": "stdout",
     "output_type": "stream",
     "text": [
      "Month\n",
      "1     76.000000\n",
      "7     79.266667\n",
      "8     90.161290\n",
      "9     86.100000\n",
      "10    87.419355\n",
      "11    84.566667\n",
      "12    75.064516\n",
      "Name: AQI Level, dtype: float64\n"
     ]
    }
   ],
   "source": [
    "var[\"Date\"] = pd.to_datetime(var ['Date'],dayfirst=True)\n",
    "var[\"Month\"] = var ['Date'].dt.month\n",
    "\n",
    "monthly_avg = var.groupby('Month')['AQI Level'].mean()\n",
    "print(monthly_avg)"
   ]
  },
  {
   "cell_type": "code",
   "execution_count": 41,
   "id": "771891de-dee2-4a90-92a3-c76ea686bd3a",
   "metadata": {},
   "outputs": [
    {
     "data": {
      "image/png": "[encoded data removed]",
      "text/plain": [
       "<Figure size 640x480 with 1 Axes>"
      ]
     },
     "metadata": {},
     "output_type": "display_data"
    }
   ],
   "source": [
    "monthly_avg.plot(kind='bar', color='skyblue')\n",
    "plt.title(\"PM2.5(µg/m³),PM10(µg/m³),NO? (µg/m³)\")\n",
    "plt.xlabel(\"Date\")\n",
    "plt.ylabel(\"PM2.5(µg/m³),PM10(µg/m³),NO? (µg/m³)\")\n",
    "plt.show()"
   ]
  },
  {
   "cell_type": "code",
   "execution_count": 49,
   "id": "227f7252-1d85-40d5-916a-5dfbe0f5b1ca",
   "metadata": {},
   "outputs": [
    {
     "name": "stdout",
     "output_type": "stream",
     "text": [
      "Index(['City', 'Date', 'PM2.5(µg/m³)', 'PM10(µg/m³)', 'NO? (µg/m³)',\n",
      "       'SO2(µg/m³)', 'CO (mg/m³)', 'O3 (mg/m³)', 'AQI Level', ' Category'],\n",
      "      dtype='object')\n"
     ]
    },
    {
     "data": {
      "image/png": "[encoded data removed]",
      "text/plain": [
       "<Figure size 1000x600 with 1 Axes>"
      ]
     },
     "metadata": {},
     "output_type": "display_data"
    }
   ],
   "source": [
    "\n",
    "var = pd.read_csv(\"C:\\\\Users\\\\sahub\\\\OneDrive\\\\Desktop\\\\PandasPro\\\\air Pollucatests.csv\", encoding='windows-1252')\n",
    "\n",
    "\n",
    "print(df.columns)\n",
    "\n",
    "var[\"Date\"] = pd.to_datetime(var[\"Date\"],dayfirst=True)\n",
    "var[\"Month\"] = var[\"Date\"].dt.month\n",
    "\n",
    "\n",
    "monthly_avg = var.groupby(\"Date\")[[\"PM2.5(µg/m³)\", \"PM10(µg/m³)\", \"NO? (µg/m³)\"]].mean()\n",
    "\n",
    "# Plot करें\n",
    "monthly_avg.plot(kind='bar', figsize=(10,6))\n",
    "plt.title(\"PM2.5, PM10, NO?\")\n",
    "plt.xlabel(\"Date\")\n",
    "plt.ylabel(\"µg/m³\")\n",
    "plt.xticks(rotation=0)\n",
    "plt.grid(axis='y', linestyle='--', alpha=0.7)\n",
    "plt.tight_layout()\n",
    "plt.show()\n"
   ]
  },
  {
   "cell_type": "code",
   "execution_count": 9,
   "id": "37e9df71-dfa1-4038-a831-43f5a9c7a7b6",
   "metadata": {},
   "outputs": [
    {
     "data": {
      "text/html": [
       "<div>\n",
       "<style scoped>\n",
       "    .dataframe tbody tr th:only-of-type {\n",
       "        vertical-align: middle;\n",
       "    }\n",
       "\n",
       "    .dataframe tbody tr th {\n",
       "        vertical-align: top;\n",
       "    }\n",
       "\n",
       "    .dataframe thead th {\n",
       "        text-align: right;\n",
       "    }\n",
       "</style>\n",
       "<table border=\"1\" class=\"dataframe\">\n",
       "  <thead>\n",
       "    <tr style=\"text-align: right;\">\n",
       "      <th></th>\n",
       "      <th>City</th>\n",
       "      <th>Date</th>\n",
       "      <th>PM2.5(µg/m³)</th>\n",
       "      <th>PM10(µg/m³)</th>\n",
       "      <th>NO? (µg/m³)</th>\n",
       "      <th>SO2(µg/m³)</th>\n",
       "      <th>CO (mg/m³)</th>\n",
       "      <th>O3 (mg/m³)</th>\n",
       "      <th>AQI Level</th>\n",
       "      <th>Category</th>\n",
       "    </tr>\n",
       "  </thead>\n",
       "  <tbody>\n",
       "    <tr>\n",
       "      <th>0</th>\n",
       "      <td>Patna</td>\n",
       "      <td>02-07-2025</td>\n",
       "      <td>163</td>\n",
       "      <td>86</td>\n",
       "      <td>70</td>\n",
       "      <td>19</td>\n",
       "      <td>0.57</td>\n",
       "      <td>45</td>\n",
       "      <td>76</td>\n",
       "      <td>Moderate</td>\n",
       "    </tr>\n",
       "    <tr>\n",
       "      <th>1</th>\n",
       "      <td>Gaya</td>\n",
       "      <td>03-07-2025</td>\n",
       "      <td>150</td>\n",
       "      <td>155</td>\n",
       "      <td>43</td>\n",
       "      <td>6</td>\n",
       "      <td>1.67</td>\n",
       "      <td>56</td>\n",
       "      <td>82</td>\n",
       "      <td>Moderate</td>\n",
       "    </tr>\n",
       "    <tr>\n",
       "      <th>2</th>\n",
       "      <td>Bhagalpur</td>\n",
       "      <td>04-07-2025</td>\n",
       "      <td>55</td>\n",
       "      <td>216</td>\n",
       "      <td>49</td>\n",
       "      <td>18</td>\n",
       "      <td>1.35</td>\n",
       "      <td>65</td>\n",
       "      <td>75</td>\n",
       "      <td>Poor</td>\n",
       "    </tr>\n",
       "    <tr>\n",
       "      <th>3</th>\n",
       "      <td>Muzaffarpur</td>\n",
       "      <td>05-07-2025</td>\n",
       "      <td>51</td>\n",
       "      <td>112</td>\n",
       "      <td>52</td>\n",
       "      <td>18</td>\n",
       "      <td>1.91</td>\n",
       "      <td>66</td>\n",
       "      <td>59</td>\n",
       "      <td>Poor</td>\n",
       "    </tr>\n",
       "    <tr>\n",
       "      <th>4</th>\n",
       "      <td>Purniya</td>\n",
       "      <td>06-07-2025</td>\n",
       "      <td>74</td>\n",
       "      <td>96</td>\n",
       "      <td>20</td>\n",
       "      <td>11</td>\n",
       "      <td>1.47</td>\n",
       "      <td>23</td>\n",
       "      <td>53</td>\n",
       "      <td>Moderate</td>\n",
       "    </tr>\n",
       "    <tr>\n",
       "      <th>...</th>\n",
       "      <td>...</td>\n",
       "      <td>...</td>\n",
       "      <td>...</td>\n",
       "      <td>...</td>\n",
       "      <td>...</td>\n",
       "      <td>...</td>\n",
       "      <td>...</td>\n",
       "      <td>...</td>\n",
       "      <td>...</td>\n",
       "      <td>...</td>\n",
       "    </tr>\n",
       "    <tr>\n",
       "      <th>199</th>\n",
       "      <td>Thanjavur</td>\n",
       "      <td>17-01-2025</td>\n",
       "      <td>43</td>\n",
       "      <td>72</td>\n",
       "      <td>25</td>\n",
       "      <td>9</td>\n",
       "      <td>0.40</td>\n",
       "      <td>45</td>\n",
       "      <td>79</td>\n",
       "      <td>Moderate</td>\n",
       "    </tr>\n",
       "    <tr>\n",
       "      <th>200</th>\n",
       "      <td>Vellore</td>\n",
       "      <td>18-01-2025</td>\n",
       "      <td>51</td>\n",
       "      <td>86</td>\n",
       "      <td>33</td>\n",
       "      <td>10</td>\n",
       "      <td>0.60</td>\n",
       "      <td>50</td>\n",
       "      <td>4</td>\n",
       "      <td>Moderate</td>\n",
       "    </tr>\n",
       "    <tr>\n",
       "      <th>201</th>\n",
       "      <td>Thoothukudi</td>\n",
       "      <td>19-01-2025</td>\n",
       "      <td>60</td>\n",
       "      <td>95</td>\n",
       "      <td>34</td>\n",
       "      <td>12</td>\n",
       "      <td>0.70</td>\n",
       "      <td>59</td>\n",
       "      <td>89</td>\n",
       "      <td>Moderate</td>\n",
       "    </tr>\n",
       "    <tr>\n",
       "      <th>202</th>\n",
       "      <td>Tirunelveli</td>\n",
       "      <td>20-01-2025</td>\n",
       "      <td>38</td>\n",
       "      <td>64</td>\n",
       "      <td>22</td>\n",
       "      <td>7</td>\n",
       "      <td>0.30</td>\n",
       "      <td>68</td>\n",
       "      <td>68</td>\n",
       "      <td>Poor</td>\n",
       "    </tr>\n",
       "    <tr>\n",
       "      <th>203</th>\n",
       "      <td>Dindigul</td>\n",
       "      <td>21-01-2025</td>\n",
       "      <td>41</td>\n",
       "      <td>66</td>\n",
       "      <td>24</td>\n",
       "      <td>8</td>\n",
       "      <td>0.30</td>\n",
       "      <td>61</td>\n",
       "      <td>49</td>\n",
       "      <td>Moderate</td>\n",
       "    </tr>\n",
       "  </tbody>\n",
       "</table>\n",
       "<p>204 rows × 10 columns</p>\n",
       "</div>"
      ],
      "text/plain": [
       "            City        Date  PM2.5(µg/m³)  PM10(µg/m³)  NO? (µg/m³)  \\\n",
       "0          Patna  02-07-2025           163           86           70   \n",
       "1          Gaya   03-07-2025           150          155           43   \n",
       "2      Bhagalpur  04-07-2025            55          216           49   \n",
       "3    Muzaffarpur  05-07-2025            51          112           52   \n",
       "4       Purniya   06-07-2025            74           96           20   \n",
       "..           ...         ...           ...          ...          ...   \n",
       "199    Thanjavur  17-01-2025            43           72           25   \n",
       "200      Vellore  18-01-2025            51           86           33   \n",
       "201  Thoothukudi  19-01-2025            60           95           34   \n",
       "202  Tirunelveli  20-01-2025            38           64           22   \n",
       "203     Dindigul  21-01-2025            41           66           24   \n",
       "\n",
       "     SO2(µg/m³)  CO (mg/m³)  O3 (mg/m³)  AQI Level  Category  \n",
       "0            19        0.57          45         76  Moderate  \n",
       "1             6        1.67          56         82  Moderate  \n",
       "2            18        1.35          65         75      Poor  \n",
       "3            18        1.91          66         59      Poor  \n",
       "4            11        1.47          23         53  Moderate  \n",
       "..          ...         ...         ...        ...       ...  \n",
       "199           9        0.40          45         79  Moderate  \n",
       "200          10        0.60          50          4  Moderate  \n",
       "201          12        0.70          59         89  Moderate  \n",
       "202           7        0.30          68         68      Poor  \n",
       "203           8        0.30          61         49  Moderate  \n",
       "\n",
       "[204 rows x 10 columns]"
      ]
     },
     "execution_count": 9,
     "metadata": {},
     "output_type": "execute_result"
    }
   ],
   "source": [
    "var = pd.read_csv(\"C:\\\\Users\\\\sahub\\\\OneDrive\\\\Desktop\\\\PandasPro\\\\air Pollucatests.csv\",encoding='windows-1252')\n",
    "var\n"
   ]
  },
  {
   "cell_type": "code",
   "execution_count": 32,
   "id": "ee17a036-d50c-4c1d-8e72-18a5ada62a2b",
   "metadata": {},
   "outputs": [
    {
     "name": "stdout",
     "output_type": "stream",
     "text": [
      "MAE: 39.22853658536585\n",
      "R2 Score: 0.13849666491706636\n"
     ]
    }
   ],
   "source": [
    "x = var[['PM10(µg/m³)','NO? (µg/m³)','SO2(µg/m³)','CO (mg/m³)','O3 (mg/m³)','AQI Level']]\n",
    "y = var['PM2.5(µg/m³)']\n",
    "X_train, X_test, y_train, y_test = train_test_split(x, y, test_size=0.2)\n",
    "\n",
    "model = RandomForestRegressor()\n",
    "model.fit(X_train, y_train)\n",
    "y_pred = model.predict(X_test)\n",
    "\n",
    "print(\"MAE:\", mean_absolute_error(y_test, y_pred))\n",
    "print(\"R2 Score:\", r2_score(y_test, y_pred))"
   ]
  },
  {
   "cell_type": "code",
   "execution_count": 17,
   "id": "159f3d38-4780-44b5-96d0-588962555d92",
   "metadata": {},
   "outputs": [
    {
     "name": "stdout",
     "output_type": "stream",
     "text": [
      "MAE: 41.300487804878045\n",
      "R2 Score: 0.24192500287228214\n"
     ]
    }
   ],
   "source": [
    "from sklearn.model_selection import train_test_split\n",
    "from sklearn.ensemble import RandomForestRegressor\n",
    "from sklearn.metrics import mean_absolute_error, r2_score\n",
    "import matplotlib.pyplot as plt\n",
    "\n",
    "x = var[['PM2.5(µg/m³)','NO? (µg/m³)','SO2(µg/m³)','CO (mg/m³)','O3 (mg/m³)','AQI Level']]\n",
    "y = var['PM10(µg/m³)']\n",
    "X_train, X_test, y_train, y_test = train_test_split(x, y, test_size=0.2)\n",
    "\n",
    "model = RandomForestRegressor()\n",
    "model.fit(X_train, y_train)\n",
    "y_pred = model.predict(X_test)\n",
    "\n",
    "print(\"MAE:\", mean_absolute_error(y_test, y_pred))\n",
    "print(\"R2 Score:\", r2_score(y_test, y_pred))"
   ]
  },
  {
   "cell_type": "code",
   "execution_count": 18,
   "id": "21aeb26e-b16b-48a8-b617-822668f55954",
   "metadata": {},
   "outputs": [
    {
     "name": "stdout",
     "output_type": "stream",
     "text": [
      "MAE: 14.020975609756098\n",
      "R2 Score: 0.18879122995161413\n"
     ]
    }
   ],
   "source": [
    "x = var[['PM2.5(µg/m³)','PM10(µg/m³)','NO? (µg/m³)','CO (mg/m³)','O3 (mg/m³)','AQI Level']]\n",
    "y = var['SO2(µg/m³)']\n",
    "X_train, X_test, y_train, y_test = train_test_split(x, y, test_size=0.2)\n",
    "\n",
    "model = RandomForestRegressor()\n",
    "model.fit(X_train, y_train)\n",
    "y_pred = model.predict(X_test)\n",
    "\n",
    "print(\"MAE:\", mean_absolute_error(y_test, y_pred))\n",
    "print(\"R2 Score:\", r2_score(y_test, y_pred))"
   ]
  },
  {
   "cell_type": "code",
   "execution_count": 19,
   "id": "7179d40f-e0ac-438c-81b8-f954e927870f",
   "metadata": {},
   "outputs": [
    {
     "name": "stdout",
     "output_type": "stream",
     "text": [
      "MAE: 7.66829268292683\n",
      "R2 Score: -0.1986709383369365\n"
     ]
    }
   ],
   "source": [
    "x = var[['PM2.5(µg/m³)','PM10(µg/m³)','NO? (µg/m³)','CO (mg/m³)','O3 (mg/m³)','AQI Level']]\n",
    "y = var['SO2(µg/m³)']\n",
    "X_train, X_test, y_train, y_test = train_test_split(x, y, test_size=0.2)\n",
    "\n",
    "model = RandomForestRegressor()\n",
    "model.fit(X_train, y_train)\n",
    "y_pred = model.predict(X_test)\n",
    "\n",
    "print(\"MAE:\", mean_absolute_error(y_test, y_pred))\n",
    "print(\"R2 Score:\", r2_score(y_test, y_pred))"
   ]
  },
  {
   "cell_type": "code",
   "execution_count": 20,
   "id": "30c359fe-3ad5-4a97-a3b8-b88a4f1cd308",
   "metadata": {},
   "outputs": [
    {
     "name": "stdout",
     "output_type": "stream",
     "text": [
      "MAE: 1.29010975609756\n",
      "R2 Score: -124.5434255410616\n"
     ]
    }
   ],
   "source": [
    "x = var[['PM2.5(µg/m³)','PM10(µg/m³)','NO? (µg/m³)','SO2(µg/m³)','O3 (mg/m³)','AQI Level']]\n",
    "y = var['CO (mg/m³)']\n",
    "X_train, X_test, y_train, y_test = train_test_split(x, y, test_size=0.2)\n",
    "\n",
    "model = RandomForestRegressor()\n",
    "model.fit(X_train, y_train)\n",
    "y_pred = model.predict(X_test)\n",
    "\n",
    "print(\"MAE:\", mean_absolute_error(y_test, y_pred))\n",
    "print(\"R2 Score:\", r2_score(y_test, y_pred))"
   ]
  },
  {
   "cell_type": "code",
   "execution_count": 21,
   "id": "b455a309-43f8-4bb1-855e-a62e59b478d1",
   "metadata": {},
   "outputs": [
    {
     "name": "stdout",
     "output_type": "stream",
     "text": [
      "MAE: 31.88829268292683\n",
      "R2 Score: -17.330552864548544\n"
     ]
    }
   ],
   "source": [
    "x = var[['PM2.5(µg/m³)','PM10(µg/m³)','NO? (µg/m³)','SO2(µg/m³)','CO (mg/m³)','AQI Level']]\n",
    "y = var['O3 (mg/m³)']\n",
    "X_train, X_test, y_train, y_test = train_test_split(x, y, test_size=0.2)\n",
    "\n",
    "model = RandomForestRegressor()\n",
    "model.fit(X_train, y_train)\n",
    "y_pred = model.predict(X_test)\n",
    "\n",
    "print(\"MAE:\", mean_absolute_error(y_test, y_pred))\n",
    "print(\"R2 Score:\", r2_score(y_test, y_pred))"
   ]
  },
  {
   "cell_type": "code",
   "execution_count": 23,
   "id": "2aa9e49a-71a7-4a75-9e10-fd948b1eecad",
   "metadata": {},
   "outputs": [
    {
     "name": "stdout",
     "output_type": "stream",
     "text": [
      "MAE: 14.958536585365852\n",
      "R2 Score: 0.11267324227811015\n"
     ]
    }
   ],
   "source": [
    "x = var[['PM2.5(µg/m³)','PM10(µg/m³)','NO? (µg/m³)','SO2(µg/m³)','CO (mg/m³)','O3 (mg/m³)']]\n",
    "y = var['AQI Level']\n",
    "X_train, X_test, y_train, y_test = train_test_split(x, y, test_size=0.2)\n",
    "\n",
    "model = RandomForestRegressor()\n",
    "model.fit(X_train, y_train)\n",
    "y_pred = model.predict(X_test)\n",
    "\n",
    "print(\"MAE:\", mean_absolute_error(y_test, y_pred))\n",
    "print(\"R2 Score:\", r2_score(y_test, y_pred))"
   ]
  },
  {
   "cell_type": "code",
   "execution_count": 29,
   "id": "6afedbc1-0a1f-41fd-85ab-46083a23f207",
   "metadata": {},
   "outputs": [
    {
     "data": {
      "image/png": "[encoded data removed]",
      "text/plain": [
       "<Figure size 1200x600 with 1 Axes>"
      ]
     },
     "metadata": {},
     "output_type": "display_data"
    }
   ],
   "source": [
    "plt.figure(figsize=(12,6))  # ✅ correct method\n",
    "pollutants = ['PM2.5(µg/m³)', 'PM10(µg/m³)', 'NO? (µg/m³)', 'SO2(µg/m³)', 'CO (mg/m³)', 'O3 (mg/m³)']\n",
    "\n",
    "for pollutant in pollutants:\n",
    "    plt.plot(var['Date'], var[pollutant], label=pollutant)\n",
    "\n",
    "plt.xlabel(\"Date\")\n",
    "plt.ylabel(\"Pollution Level (µg/m³ or mg/m³)\")\n",
    "plt.title(\"Air Pollution Trends Over Time\")\n",
    "plt.legend()\n",
    "plt.xticks(rotation=45)\n",
    "plt.grid(True)\n",
    "plt.tight_layout()\n",
    "plt.show()\n"
   ]
  },
  {
   "cell_type": "code",
   "execution_count": 36,
   "id": "53d1339d-85c2-4f5a-b417-132e535827ec",
   "metadata": {},
   "outputs": [
    {
     "data": {
      "image/png": "[encoded data removed]",
      "text/plain": [
       "<Figure size 640x480 with 1 Axes>"
      ]
     },
     "metadata": {},
     "output_type": "display_data"
    }
   ],
   "source": [
    "import joblib\n",
    "import seaborn as sns\n",
    "import streamlit as st\n",
    "\n",
    "joblib.dump(model, 'pm10_predictor.pkl')  # save\n",
    "model = joblib.load('pm10_predictor.pkl')  # load\n",
    "\n",
    "importance = model.feature_importances_\n",
    "features = x.columns\n",
    "sns.barplot(x=importance, y=features)\n",
    "plt.title(\"Feature Importance\")\n",
    "plt.show()\n"
   ]
  }
 ],
 "metadata": {
  "kernelspec": {
   "display_name": "Python 3 (ipykernel)",
   "language": "python",
   "name": "python3"
  },
  "language_info": {
   "codemirror_mode": {
    "name": "ipython",
    "version": 3
   },
   "file_extension": ".py",
   "mimetype": "text/x-python",
   "name": "python",
   "nbconvert_exporter": "python",
   "pygments_lexer": "ipython3",
   "version": "3.13.5"
  }
 },
 "nbformat": 4,
 "nbformat_minor": 5
}
